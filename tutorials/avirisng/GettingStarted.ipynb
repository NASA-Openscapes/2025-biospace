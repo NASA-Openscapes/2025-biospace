{
 "cells": [
  {
   "cell_type": "markdown",
   "id": "dab04c97-ea39-48a8-9c75-6fa2ec13dd03",
   "metadata": {},
   "source": [
    "# Welcome to the BIOSPACE25 BioSCape Workshop\n",
    "## Harnessing analysis tools for biodiversity applications using field, airborne, and orbital remote sensing data from NASA's BioSCAPE campaign\n",
    "\n",
    "Michele Thornton, Rupesh Shrestha, Erin Hestir, Adam Wilson, Jasper Slingsby, Anabelle Cardoso\n",
    "\n",
    "**Date:**  February 12, 2025, Frascati (Rome), Italy\n",
    "\n",
    "![BIOSPACE25](images/BioSpace25_clip_50.jpg)"
   ]
  },
  {
   "cell_type": "markdown",
   "id": "810a6d04-d1a4-4383-9682-5f881328ea54",
   "metadata": {},
   "source": [
    "## Getting Started "
   ]
  },
  {
   "cell_type": "markdown",
   "id": "a2837c16-bcce-450a-9f85-6e4e655d0c01",
   "metadata": {},
   "source": [
    "### 1. If you do not already have and know your NASA Earthdata Login Account, please get one [here](https://urs.earthdata.nasa.gov/):  \n",
    "- [https://urs.earthdata.nasa.gov/](https://urs.earthdata.nasa.gov/)"
   ]
  },
  {
   "cell_type": "markdown",
   "id": "6d9c16fd-9b84-4a40-82eb-94d2b968d924",
   "metadata": {},
   "source": [
    "### 2. Download an AVIRIS-NG Reflectance file from JPL.\n",
    "- run the wget code block below"
   ]
  },
  {
   "cell_type": "code",
   "execution_count": null,
   "id": "65ca7832-13c8-4179-8878-fff23d6855c4",
   "metadata": {},
   "outputs": [],
   "source": [
    "!wget https://popo.jpl.nasa.gov/pub/bioscape_netCDF/rfl/ang20231109t133124_005_L2A_OE_0b4f48b4_RFL_ORT.nc -P /home/jovyan/2025-biospace/tutorials/avirisng/data/ang"
   ]
  }
 ],
 "metadata": {
  "kernelspec": {
   "display_name": "Python 3 (ipykernel)",
   "language": "python",
   "name": "python3"
  },
  "language_info": {
   "codemirror_mode": {
    "name": "ipython",
    "version": 3
   },
   "file_extension": ".py",
   "mimetype": "text/x-python",
   "name": "python",
   "nbconvert_exporter": "python",
   "pygments_lexer": "ipython3",
   "version": "3.11.11"
  }
 },
 "nbformat": 4,
 "nbformat_minor": 5
}
